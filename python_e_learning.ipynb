{
  "nbformat": 4,
  "nbformat_minor": 0,
  "metadata": {
    "colab": {
      "provenance": [],
      "include_colab_link": true
    },
    "kernelspec": {
      "name": "python3",
      "display_name": "Python 3"
    },
    "language_info": {
      "name": "python"
    }
  },
  "cells": [
    {
      "cell_type": "markdown",
      "metadata": {
        "id": "view-in-github",
        "colab_type": "text"
      },
      "source": [
        "<a href=\"https://colab.research.google.com/github/20r21a6724karthikeya/Python-elearning/blob/main/python_e_learning.ipynb\" target=\"_parent\"><img src=\"https://colab.research.google.com/assets/colab-badge.svg\" alt=\"Open In Colab\"/></a>"
      ]
    },
    {
      "cell_type": "code",
      "execution_count": null,
      "metadata": {
        "colab": {
          "base_uri": "https://localhost:8080/"
        },
        "id": "b_4XZmBcdGq8",
        "outputId": "c69dc4ce-17ed-4319-b337-cfb2b0a6d0b0"
      },
      "outputs": [
        {
          "output_type": "stream",
          "name": "stdout",
          "text": [
            "['apple', 'mango', 'strawberry', 'blueberry', 'grapes', '@', '&']\n"
          ]
        }
      ],
      "source": [
        "#remove\n",
        "l=['apple','banana','mango','strawberry','blueberry','grapes','@','&']\n",
        "l.remove('banana')\n",
        "print(l)"
      ]
    },
    {
      "cell_type": "code",
      "source": [
        "#pop\n",
        "l=['apple','banana','mango','strawberry','blueberry','grapes','@','&']\n",
        "l.pop(2)\n",
        "print(l)"
      ],
      "metadata": {
        "colab": {
          "base_uri": "https://localhost:8080/"
        },
        "id": "cjlGQVPAdtpa",
        "outputId": "4ecbdddf-ab7f-44ae-f027-7d25b3286acd"
      },
      "execution_count": null,
      "outputs": [
        {
          "output_type": "stream",
          "name": "stdout",
          "text": [
            "['apple', 'banana', 'strawberry', 'blueberry', 'grapes', '@', '&']\n"
          ]
        }
      ]
    },
    {
      "cell_type": "code",
      "source": [
        "#delete---->del collection_name[index_pos_number]\n",
        "l=['apple','banana','mango','strawberry','blueberry','grapes','@','&']\n",
        "del l[2]\n",
        "print(l)"
      ],
      "metadata": {
        "colab": {
          "base_uri": "https://localhost:8080/"
        },
        "id": "Jd_QvaUXd4rN",
        "outputId": "a404d038-f4fc-4386-faa0-eaf3bcf24155"
      },
      "execution_count": null,
      "outputs": [
        {
          "output_type": "stream",
          "name": "stdout",
          "text": [
            "['apple', 'banana', 'strawberry', 'blueberry', 'grapes', '@', '&']\n"
          ]
        }
      ]
    },
    {
      "cell_type": "code",
      "source": [
        "#4th clear\n",
        "l1=['apple','banana','mango','strawberry','blueberry','grapes','@','&']\n",
        "l1.clear()\n",
        "print(l1)"
      ],
      "metadata": {
        "colab": {
          "base_uri": "https://localhost:8080/"
        },
        "id": "Jc5R-ymNeoA1",
        "outputId": "7ca7110e-21f1-4ca5-d442-a0001f31b058"
      },
      "execution_count": null,
      "outputs": [
        {
          "output_type": "stream",
          "name": "stdout",
          "text": [
            "[]\n"
          ]
        }
      ]
    },
    {
      "cell_type": "code",
      "source": [
        "#tuple-->()\n",
        "#ordered, immutable, allows the dupilcates\n",
        "t=('apple','banana','mango','strawberry','blueberry','grapes')\n",
        "print(t)\n",
        "print(type(t))"
      ],
      "metadata": {
        "colab": {
          "base_uri": "https://localhost:8080/"
        },
        "id": "55jRvXFseoEP",
        "outputId": "2b217edb-3ffb-4dbe-cad9-e913eacaae65"
      },
      "execution_count": null,
      "outputs": [
        {
          "output_type": "stream",
          "name": "stdout",
          "text": [
            "('apple', 'banana', 'mango', 'strawberry', 'blueberry', 'grapes')\n",
            "<class 'tuple'>\n"
          ]
        }
      ]
    },
    {
      "cell_type": "code",
      "source": [
        "#allows duplicates\n",
        "t=('apple','bannana','mango','strawberry','blueberry','grapes','grapes')\n",
        "print(t)"
      ],
      "metadata": {
        "colab": {
          "base_uri": "https://localhost:8080/"
        },
        "id": "O95VB3kieoR8",
        "outputId": "add4b823-2313-4519-b860-44a2b3c78dcb"
      },
      "execution_count": null,
      "outputs": [
        {
          "output_type": "stream",
          "name": "stdout",
          "text": [
            "('apple', 'bannana', 'mango', 'strawberry', 'blueberry', 'grapes', 'grapes')\n"
          ]
        }
      ]
    },
    {
      "cell_type": "code",
      "source": [
        "#tuple are ordered\n",
        "t=('apple','bannana','mango','strawberry','blueberry','grapes')\n",
        "print(t[3])\n",
        "print(t[1:5])\n",
        "#print even positions of above tuple\n",
        "t=('apple','bannana','mango','strawberry','blueberry','grapes')\n",
        "print(t[::2])\n",
        "#print the reverse of the above collection\n",
        "t=('apple','bannana','mango','strawberry','blueberry','grapes')\n",
        "print(t[::-1])"
      ],
      "metadata": {
        "colab": {
          "base_uri": "https://localhost:8080/"
        },
        "id": "shglVrhLiCK1",
        "outputId": "02dccdbe-dbd0-40e2-c84d-af98ccfac31a"
      },
      "execution_count": null,
      "outputs": [
        {
          "output_type": "stream",
          "name": "stdout",
          "text": [
            "strawberry\n",
            "('bannana', 'mango', 'strawberry', 'blueberry')\n",
            "('apple', 'mango', 'blueberry')\n",
            "('grapes', 'blueberry', 'strawberry', 'mango', 'bannana', 'apple')\n"
          ]
        }
      ]
    },
    {
      "cell_type": "code",
      "source": [
        "#tuple is immutable\n",
        "t=('apple','bannana','mango','strawberry','blueberry','grapes')\n",
        "t[0]='orange'"
      ],
      "metadata": {
        "colab": {
          "base_uri": "https://localhost:8080/",
          "height": 176
        },
        "id": "77m-dwuBiCXD",
        "outputId": "57b20c00-503c-4015-ebcf-32536dbb899e"
      },
      "execution_count": null,
      "outputs": [
        {
          "output_type": "error",
          "ename": "TypeError",
          "evalue": "'tuple' object does not support item assignment",
          "traceback": [
            "\u001b[0;31m---------------------------------------------------------------------------\u001b[0m",
            "\u001b[0;31mTypeError\u001b[0m                                 Traceback (most recent call last)",
            "\u001b[0;32m<ipython-input-23-d3f3b49d7384>\u001b[0m in \u001b[0;36m<cell line: 3>\u001b[0;34m()\u001b[0m\n\u001b[1;32m      1\u001b[0m \u001b[0;31m#tuple is immutable\u001b[0m\u001b[0;34m\u001b[0m\u001b[0;34m\u001b[0m\u001b[0m\n\u001b[1;32m      2\u001b[0m \u001b[0mt\u001b[0m\u001b[0;34m=\u001b[0m\u001b[0;34m(\u001b[0m\u001b[0;34m'apple'\u001b[0m\u001b[0;34m,\u001b[0m\u001b[0;34m'bannana'\u001b[0m\u001b[0;34m,\u001b[0m\u001b[0;34m'mango'\u001b[0m\u001b[0;34m,\u001b[0m\u001b[0;34m'strawberry'\u001b[0m\u001b[0;34m,\u001b[0m\u001b[0;34m'blueberry'\u001b[0m\u001b[0;34m,\u001b[0m\u001b[0;34m'grapes'\u001b[0m\u001b[0;34m)\u001b[0m\u001b[0;34m\u001b[0m\u001b[0;34m\u001b[0m\u001b[0m\n\u001b[0;32m----> 3\u001b[0;31m \u001b[0mt\u001b[0m\u001b[0;34m[\u001b[0m\u001b[0;36m0\u001b[0m\u001b[0;34m]\u001b[0m\u001b[0;34m=\u001b[0m\u001b[0;34m'orange'\u001b[0m\u001b[0;34m\u001b[0m\u001b[0;34m\u001b[0m\u001b[0m\n\u001b[0m",
            "\u001b[0;31mTypeError\u001b[0m: 'tuple' object does not support item assignment"
          ]
        }
      ]
    },
    {
      "cell_type": "code",
      "source": [
        "#how can we add new items into the tuple\n",
        "t=('apple','bannana','mango','strawberry','blueberry','grapes')\n",
        "t=t+('orange',)\n",
        "print(t)\n",
        "#what is difference b\\w list and tuple?\n",
        "#when i should use list and when i should use tuple?\n"
      ],
      "metadata": {
        "colab": {
          "base_uri": "https://localhost:8080/"
        },
        "id": "exleOkDTjWpW",
        "outputId": "8a3aeaf5-660b-4fbb-f11b-714b31598a52"
      },
      "execution_count": null,
      "outputs": [
        {
          "output_type": "stream",
          "name": "stdout",
          "text": [
            "('apple', 'bannana', 'mango', 'strawberry', 'blueberry', 'grapes', 'orange')\n"
          ]
        }
      ]
    },
    {
      "cell_type": "code",
      "source": [
        "#set-->{}\n",
        "#unordered,no duplicates,immutable\n",
        "s1={'apple','banana','mango','strawberry','blueberry','grapes','apple'}\n",
        "print(s1)\n",
        "print(type(s1))"
      ],
      "metadata": {
        "colab": {
          "base_uri": "https://localhost:8080/"
        },
        "id": "iXpeKOZrjXCG",
        "outputId": "0c15b3ca-6c69-4db0-d77e-f277d493d2fd"
      },
      "execution_count": null,
      "outputs": [
        {
          "output_type": "stream",
          "name": "stdout",
          "text": [
            "{'banana', 'grapes', 'strawberry', 'mango', 'apple', 'blueberry'}\n",
            "<class 'set'>\n"
          ]
        }
      ]
    },
    {
      "cell_type": "code",
      "source": [
        "#sets are unordered\n",
        "print(s1[0])"
      ],
      "metadata": {
        "colab": {
          "base_uri": "https://localhost:8080/",
          "height": 158
        },
        "id": "i2TQ-8HmkxnH",
        "outputId": "72d28550-ebcc-481c-9a5d-10913f4e01ce"
      },
      "execution_count": null,
      "outputs": [
        {
          "output_type": "error",
          "ename": "TypeError",
          "evalue": "'set' object is not subscriptable",
          "traceback": [
            "\u001b[0;31m---------------------------------------------------------------------------\u001b[0m",
            "\u001b[0;31mTypeError\u001b[0m                                 Traceback (most recent call last)",
            "\u001b[0;32m<ipython-input-29-59ccdd0ab828>\u001b[0m in \u001b[0;36m<cell line: 2>\u001b[0;34m()\u001b[0m\n\u001b[1;32m      1\u001b[0m \u001b[0;31m#sets are unordered\u001b[0m\u001b[0;34m\u001b[0m\u001b[0;34m\u001b[0m\u001b[0m\n\u001b[0;32m----> 2\u001b[0;31m \u001b[0mprint\u001b[0m\u001b[0;34m(\u001b[0m\u001b[0ms1\u001b[0m\u001b[0;34m[\u001b[0m\u001b[0;36m0\u001b[0m\u001b[0;34m]\u001b[0m\u001b[0;34m)\u001b[0m\u001b[0;34m\u001b[0m\u001b[0;34m\u001b[0m\u001b[0m\n\u001b[0m",
            "\u001b[0;31mTypeError\u001b[0m: 'set' object is not subscriptable"
          ]
        }
      ]
    },
    {
      "cell_type": "code",
      "source": [
        "#why sets are immutable?\n",
        "''' in sets we can add new elements are new items/items and we can remove the items but we cannot swap(replace) items beacuse sets will not have specific postion"
      ],
      "metadata": {
        "id": "I2k6X51Ckxqj"
      },
      "execution_count": null,
      "outputs": []
    },
    {
      "cell_type": "code",
      "source": [
        "#add items in to set\n",
        "s1={'dog','horse','hen','elephant'}\n",
        "s1.add('cow')\n",
        "print(s1)"
      ],
      "metadata": {
        "colab": {
          "base_uri": "https://localhost:8080/"
        },
        "id": "z7Gu8PYpmBLI",
        "outputId": "a62c366e-f7f6-4e9a-c96a-3f2ea630f018"
      },
      "execution_count": null,
      "outputs": [
        {
          "output_type": "stream",
          "name": "stdout",
          "text": [
            "{'dog', 'horse', 'elephant', 'cow', 'hen'}\n"
          ]
        }
      ]
    },
    {
      "cell_type": "code",
      "source": [
        "#update method:-we can update other collection values in the taken set\\\\\n",
        "l=[1,2,3,4,5]\n",
        "s1.update(l)\n",
        "print(s1)"
      ],
      "metadata": {
        "colab": {
          "base_uri": "https://localhost:8080/"
        },
        "id": "egdva123mBVQ",
        "outputId": "cb064999-828f-4c5e-ad64-650776a73dd9"
      },
      "execution_count": null,
      "outputs": [
        {
          "output_type": "stream",
          "name": "stdout",
          "text": [
            "{1, 'dog', 'horse', 2, 3, 4, 5, 'elephant', 'cow', 'hen'}\n"
          ]
        }
      ]
    },
    {
      "cell_type": "code",
      "source": [
        "#1.remove\n",
        "s1.remove(1)\n",
        "print(s1)"
      ],
      "metadata": {
        "colab": {
          "base_uri": "https://localhost:8080/"
        },
        "id": "jYQziJkin8S6",
        "outputId": "80c18d1e-6f53-444a-a6e7-565711079916"
      },
      "execution_count": null,
      "outputs": [
        {
          "output_type": "stream",
          "name": "stdout",
          "text": [
            "{'horse', 2, 3, 4, 5, 'elephant', 'cow', 'hen'}\n"
          ]
        }
      ]
    },
    {
      "cell_type": "code",
      "source": [
        "#discard\n",
        "s1.discard(\"hen\")\n",
        "print(s1)"
      ],
      "metadata": {
        "colab": {
          "base_uri": "https://localhost:8080/"
        },
        "id": "09__QNUKn8hA",
        "outputId": "b7c78903-a493-4805-a4e3-b40671e81a7a"
      },
      "execution_count": null,
      "outputs": [
        {
          "output_type": "stream",
          "name": "stdout",
          "text": [
            "{'horse', 2, 3, 4, 5, 'elephant', 'cow'}\n"
          ]
        }
      ]
    },
    {
      "cell_type": "code",
      "source": [
        "#pop method\n",
        "s1.pop()\n",
        "print(s1)"
      ],
      "metadata": {
        "colab": {
          "base_uri": "https://localhost:8080/"
        },
        "id": "h_CETL0mohYv",
        "outputId": "86d09865-a541-4d07-cd6d-72137e5c7d5a"
      },
      "execution_count": null,
      "outputs": [
        {
          "output_type": "stream",
          "name": "stdout",
          "text": [
            "{2, 3, 4, 5, 'elephant', 'cow'}\n"
          ]
        }
      ]
    },
    {
      "cell_type": "code",
      "source": [
        "#del\n",
        "del s1\n",
        "print(s1)"
      ],
      "metadata": {
        "id": "B3dviHHsohbu"
      },
      "execution_count": null,
      "outputs": []
    },
    {
      "cell_type": "code",
      "source": [
        "#clear\n",
        "s2={1,2,3,4,5,6,7,8,9,10}\n",
        "s2.clear()\n",
        "print(s2)"
      ],
      "metadata": {
        "colab": {
          "base_uri": "https://localhost:8080/"
        },
        "id": "7NV2rYSjohfK",
        "outputId": "7d75b0fe-ab11-42c7-d142-18e881e7616e"
      },
      "execution_count": null,
      "outputs": [
        {
          "output_type": "stream",
          "name": "stdout",
          "text": [
            "set()\n"
          ]
        }
      ]
    },
    {
      "cell_type": "code",
      "source": [
        "#what is the main reason we use sets\n",
        "s1={'a','b','c','d'}\n",
        "s2={'d','e','f','g'}\n",
        "s1.intersection_update(s2)\n",
        "print(s1)"
      ],
      "metadata": {
        "colab": {
          "base_uri": "https://localhost:8080/"
        },
        "id": "Er8e1f8opGvI",
        "outputId": "8872fa4f-4a7c-4a84-d863-ddf437811647"
      },
      "execution_count": null,
      "outputs": [
        {
          "output_type": "stream",
          "name": "stdout",
          "text": [
            "{'d'}\n"
          ]
        }
      ]
    },
    {
      "cell_type": "code",
      "source": [
        "s3=s1.union(s2)\n",
        "print(s3)"
      ],
      "metadata": {
        "colab": {
          "base_uri": "https://localhost:8080/"
        },
        "id": "_3sY3itepG6k",
        "outputId": "994c4a28-2164-441d-e304-0b1d54959aa5"
      },
      "execution_count": null,
      "outputs": [
        {
          "output_type": "stream",
          "name": "stdout",
          "text": [
            "{'d', 'e', 'f', 'g'}\n"
          ]
        }
      ]
    },
    {
      "cell_type": "markdown",
      "source": [
        "Heterogenous and homogenous data"
      ],
      "metadata": {
        "id": "i43kZkspcGA2"
      }
    },
    {
      "cell_type": "code",
      "source": [
        "#Dictionary\n",
        "#where we can store our items in a dictionary?\n",
        "#A)key:value pairs\n",
        "#Dictionary-->{}\n",
        "#-->unordered, it won't allow duplicates , mutable\n",
        "d1={\"Name\":\"Python\",\n",
        "    \"Last_name\":\"programming\",\n",
        "    \"age\":29,\n",
        "    \"module\":True}\n",
        "print(d1)\n",
        "print(type(d1))"
      ],
      "metadata": {
        "colab": {
          "base_uri": "https://localhost:8080/"
        },
        "id": "SkI0VbONbHDn",
        "outputId": "56f79964-0e80-4512-d702-0f71cc3f9e25"
      },
      "execution_count": null,
      "outputs": [
        {
          "output_type": "stream",
          "name": "stdout",
          "text": [
            "{'Name': 'Python', 'Last_name': 'programming', 'age': 29, 'module': True}\n",
            "<class 'dict'>\n"
          ]
        }
      ]
    },
    {
      "cell_type": "code",
      "source": [
        "#how can we print keys and values separetly?\n",
        "print(d1.keys())\n",
        "print(d1.values())"
      ],
      "metadata": {
        "colab": {
          "base_uri": "https://localhost:8080/"
        },
        "id": "36ZkeguYbHGX",
        "outputId": "3d1adc01-a5e2-4f28-f3b6-499be5202dae"
      },
      "execution_count": null,
      "outputs": [
        {
          "output_type": "stream",
          "name": "stdout",
          "text": [
            "dict_keys(['Name', 'Last_name', 'age', 'module'])\n",
            "dict_values(['Python', 'programming', 29, True])\n"
          ]
        }
      ]
    },
    {
      "cell_type": "code",
      "source": [
        "print(d1.items())"
      ],
      "metadata": {
        "colab": {
          "base_uri": "https://localhost:8080/"
        },
        "id": "3kH1nIzrbHI1",
        "outputId": "36bb92fb-e38f-4849-d321-8828e680e11c"
      },
      "execution_count": null,
      "outputs": [
        {
          "output_type": "stream",
          "name": "stdout",
          "text": [
            "dict_items([('Name', 'Python'), ('Last_name', 'programming'), ('age', 29), ('module', True)])\n"
          ]
        }
      ]
    },
    {
      "cell_type": "code",
      "source": [
        "#find length of dictionary\n",
        "print(len(d1))"
      ],
      "metadata": {
        "colab": {
          "base_uri": "https://localhost:8080/"
        },
        "id": "jEEW9q4reMXF",
        "outputId": "b259f3a8-d2fd-4846-8fc2-66d93bd54bd6"
      },
      "execution_count": null,
      "outputs": [
        {
          "output_type": "stream",
          "name": "stdout",
          "text": [
            "4\n"
          ]
        }
      ]
    },
    {
      "cell_type": "code",
      "source": [
        "#dict is an unordered\n",
        "#how can we access the elements from the dict\n",
        "print(d1['Name'])\n",
        "print(d1.get('Name'))"
      ],
      "metadata": {
        "colab": {
          "base_uri": "https://localhost:8080/"
        },
        "id": "nw5mC0FbeMac",
        "outputId": "5ccfa0ce-adbe-454f-c8b5-27ff2ad64e69"
      },
      "execution_count": null,
      "outputs": [
        {
          "output_type": "stream",
          "name": "stdout",
          "text": [
            "Python\n",
            "Python\n"
          ]
        }
      ]
    },
    {
      "cell_type": "code",
      "source": [
        "#how can we change the values to the particular key\n",
        "d1['Name']='Java'\n",
        "print(d1)\n"
      ],
      "metadata": {
        "colab": {
          "base_uri": "https://localhost:8080/"
        },
        "id": "s7Z1n777bHLp",
        "outputId": "dad15352-b8ee-4bcc-f8af-affa49997a46"
      },
      "execution_count": null,
      "outputs": [
        {
          "output_type": "stream",
          "name": "stdout",
          "text": [
            "{'Name': 'Java', 'Last_name': 'programming', 'age': 29, 'module': 'yes'}\n"
          ]
        }
      ]
    },
    {
      "cell_type": "code",
      "source": [
        "#update is also similar method we are using to update/replace values in dict\n",
        "d1={'Name':'Python',\n",
        "    'Last_name':'programming',\n",
        "    'age':29,\n",
        "    'module':True}\n",
        "d1.update({'module':'yes'})\n",
        "print(d1)"
      ],
      "metadata": {
        "colab": {
          "base_uri": "https://localhost:8080/"
        },
        "id": "mTpNasbDgwlk",
        "outputId": "5a19de7f-e5ec-488c-a5da-0f71c886d066"
      },
      "execution_count": null,
      "outputs": [
        {
          "output_type": "stream",
          "name": "stdout",
          "text": [
            "{'Name': 'Python', 'Last_name': 'programming', 'age': 29, 'module': 'yes'}\n"
          ]
        }
      ]
    },
    {
      "cell_type": "code",
      "source": [
        "d1={\n",
        "    \"Name\":\"Python\",\n",
        "    \"Last_name\":\"programming\",\n",
        "    \"age\":29,\n",
        "    \"module\":True\n",
        "}\n",
        "d1['typed'] = 'Dynamicall typed'\n",
        "print(d1)"
      ],
      "metadata": {
        "colab": {
          "base_uri": "https://localhost:8080/"
        },
        "id": "CEK8c9cogwup",
        "outputId": "86abd2fc-9870-4749-f041-02b7a99103ea"
      },
      "execution_count": null,
      "outputs": [
        {
          "output_type": "stream",
          "name": "stdout",
          "text": [
            "{'Name': 'Python', 'Last_name': 'programming', 'age': 29, 'module': True, 'typed': 'Dynamicall typed'}\n"
          ]
        }
      ]
    },
    {
      "cell_type": "code",
      "source": [
        "#Note: if the input keys are present the value get upated if it is not present new key value pairs added"
      ],
      "metadata": {
        "id": "a-BA043YbHPI"
      },
      "execution_count": null,
      "outputs": []
    },
    {
      "cell_type": "code",
      "source": [
        "#how can we remove the items in dict?\n",
        "#pop\n",
        "d1={'Name':'Python',\n",
        "    'Last_name':'programming',\n",
        "    'age':29,\n",
        "    'module':True}\n",
        "d1.pop('Name')\n",
        "print(d1)"
      ],
      "metadata": {
        "colab": {
          "base_uri": "https://localhost:8080/"
        },
        "id": "wJsAtxzHiq4X",
        "outputId": "0dcf0459-1a28-4803-f07a-eaa68eaf46d4"
      },
      "execution_count": null,
      "outputs": [
        {
          "output_type": "stream",
          "name": "stdout",
          "text": [
            "{'Last_name': 'programming', 'age': 29, 'module': True}\n"
          ]
        }
      ]
    },
    {
      "cell_type": "code",
      "source": [
        "d1={'Name':['Python','c++','Java'],\n",
        "    'Last_name':'programming',\n",
        "    'age':29,\n",
        "    'module':True}\n",
        "print(d1)\n",
        "print(d1['Name'][1])\n",
        "d1['Name'][1]='c'\n",
        "print(d1)"
      ],
      "metadata": {
        "colab": {
          "base_uri": "https://localhost:8080/"
        },
        "id": "mJXjjCbAiq70",
        "outputId": "4fce66e9-6710-4cb2-e973-df2d048f18e3"
      },
      "execution_count": null,
      "outputs": [
        {
          "output_type": "stream",
          "name": "stdout",
          "text": [
            "{'Name': ['Python', 'c++', 'Java'], 'Last_name': 'programming', 'age': 29, 'module': True}\n",
            "c++\n",
            "{'Name': ['Python', 'c', 'Java'], 'Last_name': 'programming', 'age': 29, 'module': True}\n"
          ]
        }
      ]
    },
    {
      "cell_type": "code",
      "source": [
        "#add new items in to the list in name?\n",
        "d1={'Name':['Python','c++','Java'],\n",
        "    'Last_name':'programming',\n",
        "    'age':29,\n",
        "    'module':True}\n",
        "d1['Name'].append('R')\n",
        "print(d1)"
      ],
      "metadata": {
        "colab": {
          "base_uri": "https://localhost:8080/"
        },
        "id": "NBpPdJnEkfpH",
        "outputId": "8f3e91ba-9270-412c-a4f5-dfb27009ffbe"
      },
      "execution_count": null,
      "outputs": [
        {
          "output_type": "stream",
          "name": "stdout",
          "text": [
            "{'Name': ['Python', 'c++', 'Java', 'R'], 'Last_name': 'programming', 'age': 29, 'module': True}\n"
          ]
        }
      ]
    },
    {
      "cell_type": "code",
      "source": [
        "d1={'Name':['Python','c++','Java','R'],\n",
        "    'Last_name':'programming',\n",
        "    'age':29,\n",
        "    'module':True}\n",
        "print(d1['Name'][3])\n"
      ],
      "metadata": {
        "colab": {
          "base_uri": "https://localhost:8080/"
        },
        "id": "6zz5O-fokfsg",
        "outputId": "d5c17af7-b882-44c4-aa2b-da22601adbf2"
      },
      "execution_count": null,
      "outputs": [
        {
          "output_type": "stream",
          "name": "stdout",
          "text": [
            "R\n"
          ]
        }
      ]
    },
    {
      "cell_type": "code",
      "source": [
        "#delete java from the  name\n",
        "d1={'Name':['Python','c++','Java','R'],\n",
        "    'Last_name':'programming',\n",
        "    'age':29,\n",
        "    'module':True}\n",
        "del d1['Name'][2]\n",
        "print(d1)"
      ],
      "metadata": {
        "colab": {
          "base_uri": "https://localhost:8080/"
        },
        "id": "MHZ8s6jMirc3",
        "outputId": "1fd72280-163c-474b-9e8c-9f7f4f5f21fc"
      },
      "execution_count": null,
      "outputs": [
        {
          "output_type": "stream",
          "name": "stdout",
          "text": [
            "{'Name': ['Python', 'c++', 'R'], 'Last_name': 'programming', 'age': 29, 'module': True}\n"
          ]
        }
      ]
    },
    {
      "cell_type": "code",
      "source": [
        "#clear total dict\n",
        "d1.clear()\n",
        "print(d1)"
      ],
      "metadata": {
        "colab": {
          "base_uri": "https://localhost:8080/"
        },
        "id": "T8mc1MpAlst2",
        "outputId": "d14c811e-fa5d-417e-b83f-342cfe61d346"
      },
      "execution_count": null,
      "outputs": [
        {
          "output_type": "stream",
          "name": "stdout",
          "text": [
            "{}\n"
          ]
        }
      ]
    },
    {
      "cell_type": "code",
      "source": [
        "#delete the entire dict\n",
        "d2={'Name':['Python','c++','Java','R'],\n",
        "    'Last_name':'programming',\n",
        "    'age':29,\n",
        "    'module':True}\n",
        "del d2"
      ],
      "metadata": {
        "id": "jKHZA3txmiBi"
      },
      "execution_count": null,
      "outputs": []
    },
    {
      "cell_type": "code",
      "source": [
        "#working with loops in dictionary\n",
        "d3={'Name':['Python','c','Java'],\n",
        "    'Last_name':'programming',\n",
        "    'age':29,\n",
        "    'module':True}\n",
        "#print keys() dict by using loops\n",
        "for i in d3.keys():\n",
        "    print(i)\n"
      ],
      "metadata": {
        "colab": {
          "base_uri": "https://localhost:8080/"
        },
        "id": "2g277cQwmiMa",
        "outputId": "b4a7cd67-d907-414b-b2b7-ff7a5d8b62e7"
      },
      "execution_count": null,
      "outputs": [
        {
          "output_type": "stream",
          "name": "stdout",
          "text": [
            "Name\n",
            "Last_name\n",
            "age\n",
            "module\n"
          ]
        }
      ]
    },
    {
      "cell_type": "code",
      "source": [
        "#print the values\n",
        "for i in d3.values():\n",
        "  print(i)"
      ],
      "metadata": {
        "colab": {
          "base_uri": "https://localhost:8080/"
        },
        "id": "u6wC7FZkm5cs",
        "outputId": "3dfaf0d1-dfb0-4f67-d368-990123c23c2f"
      },
      "execution_count": null,
      "outputs": [
        {
          "output_type": "stream",
          "name": "stdout",
          "text": [
            "['Python', 'c', 'Java']\n",
            "programming\n",
            "29\n",
            "True\n"
          ]
        }
      ]
    },
    {
      "cell_type": "code",
      "source": [
        "#print the keys and values in a separate line\n",
        "d3={'Name':['Python','c','Java'],\n",
        "    'Last_name':'programming',\n",
        "    'age':29,\n",
        "    'module':True}\n",
        "for i,j in d3.items():\n",
        "  print(i,j)\n",
        "#print output in dict format\n",
        "for x in d3.keys():\n",
        "    print(f'{x}:{d3[x]}')"
      ],
      "metadata": {
        "colab": {
          "base_uri": "https://localhost:8080/"
        },
        "id": "em_G3rmCm51I",
        "outputId": "3ae06001-217a-425c-bde6-29d670d64f14"
      },
      "execution_count": null,
      "outputs": [
        {
          "output_type": "stream",
          "name": "stdout",
          "text": [
            "Name ['Python', 'c', 'Java']\n",
            "Last_name programming\n",
            "age 29\n",
            "module True\n",
            "Name:['Python', 'c', 'Java']\n",
            "Last_name:programming\n",
            "age:29\n",
            "module:True\n"
          ]
        }
      ]
    },
    {
      "cell_type": "code",
      "source": [
        "#dict-->{}-->uordered, key:value pairs,won't allow duplicates,where values are changable and keys are unchangables,immutable\n",
        "#list-->[]-->ordered,allows the duplicates ,mutable\n",
        "#tuple-->()-->ordered,allows the dupilcates,immutable\n",
        "#set-->{}-->unordered,no duplicates,immutable"
      ],
      "metadata": {
        "id": "Kq9skfKdlsxT"
      },
      "execution_count": null,
      "outputs": []
    },
    {
      "cell_type": "markdown",
      "source": [
        "Escape Characters"
      ],
      "metadata": {
        "id": "I_CNQlJVswb8"
      }
    },
    {
      "cell_type": "code",
      "source": [
        "#escape characters are used to print the illegel characters.\n",
        "print('dwyane \\ \"The Rock\" Kohnson')\n",
        "#Note:-give the backward slash before illegel characters"
      ],
      "metadata": {
        "colab": {
          "base_uri": "https://localhost:8080/"
        },
        "id": "Ui6SYVTZsPQh",
        "outputId": "c0e09c7c-49f4-4df4-afc3-025ca616e090"
      },
      "execution_count": null,
      "outputs": [
        {
          "output_type": "stream",
          "name": "stdout",
          "text": [
            "dwyane \\ \"The Rock\" Kohnson\n"
          ]
        }
      ]
    },
    {
      "cell_type": "code",
      "source": [],
      "metadata": {
        "id": "yzvsxsPmsM1q"
      },
      "execution_count": null,
      "outputs": []
    },
    {
      "cell_type": "code",
      "source": [],
      "metadata": {
        "id": "RfBclJT4sM5I"
      },
      "execution_count": null,
      "outputs": []
    }
  ]
}